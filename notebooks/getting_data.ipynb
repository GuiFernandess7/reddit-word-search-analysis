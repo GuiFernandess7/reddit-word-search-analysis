{
 "cells": [
  {
   "cell_type": "code",
   "execution_count": 21,
   "metadata": {},
   "outputs": [],
   "source": [
    "import pandas as pd\n",
    "from IPython.display import display\n",
    "import pandas as pd\n",
    "import sqlite3\n",
    "import os"
   ]
  },
  {
   "cell_type": "code",
   "execution_count": 22,
   "metadata": {},
   "outputs": [
    {
     "data": {
      "text/plain": [
       "True"
      ]
     },
     "execution_count": 22,
     "metadata": {},
     "output_type": "execute_result"
    }
   ],
   "source": [
    "posts_filepath = os.path.join('../app/data', 'posts.db')\n",
    "posts_isfile = os.path.isfile(posts_filepath)\n",
    "posts_isfile"
   ]
  },
  {
   "cell_type": "code",
   "execution_count": 20,
   "metadata": {},
   "outputs": [
    {
     "data": {
      "text/html": [
       "<div>\n",
       "<style scoped>\n",
       "    .dataframe tbody tr th:only-of-type {\n",
       "        vertical-align: middle;\n",
       "    }\n",
       "\n",
       "    .dataframe tbody tr th {\n",
       "        vertical-align: top;\n",
       "    }\n",
       "\n",
       "    .dataframe thead th {\n",
       "        text-align: right;\n",
       "    }\n",
       "</style>\n",
       "<table border=\"1\" class=\"dataframe\">\n",
       "  <thead>\n",
       "    <tr style=\"text-align: right;\">\n",
       "      <th></th>\n",
       "      <th>ts</th>\n",
       "      <th>title</th>\n",
       "      <th>created_at</th>\n",
       "    </tr>\n",
       "  </thead>\n",
       "  <tbody>\n",
       "    <tr>\n",
       "      <th>0</th>\n",
       "      <td>1728097039</td>\n",
       "      <td>Sacar todo o dinheiro e esconder em casa é uma...</td>\n",
       "      <td>2024-10-05 02:57:19.000000</td>\n",
       "    </tr>\n",
       "    <tr>\n",
       "      <th>1</th>\n",
       "      <td>1728095744</td>\n",
       "      <td>Boulos falando sobre o receituário inventado</td>\n",
       "      <td>2024-10-05 02:35:44.000000</td>\n",
       "    </tr>\n",
       "    <tr>\n",
       "      <th>2</th>\n",
       "      <td>1728094156</td>\n",
       "      <td>Tudo bem ter pé atrás com Marçal, mas por caus...</td>\n",
       "      <td>2024-10-05 02:09:16.000000</td>\n",
       "    </tr>\n",
       "    <tr>\n",
       "      <th>3</th>\n",
       "      <td>1728092437</td>\n",
       "      <td>Já pensou pq não fazem luvas de goleiro ridicu...</td>\n",
       "      <td>2024-10-05 01:40:37.000000</td>\n",
       "    </tr>\n",
       "    <tr>\n",
       "      <th>4</th>\n",
       "      <td>1728090977</td>\n",
       "      <td>Marçal acaba de postar esse receituário sobre ...</td>\n",
       "      <td>2024-10-05 01:16:17.000000</td>\n",
       "    </tr>\n",
       "    <tr>\n",
       "      <th>...</th>\n",
       "      <td>...</td>\n",
       "      <td>...</td>\n",
       "      <td>...</td>\n",
       "    </tr>\n",
       "    <tr>\n",
       "      <th>185</th>\n",
       "      <td>1727833778</td>\n",
       "      <td>Fui diagnosticado com autismo leve, em que ess...</td>\n",
       "      <td>2024-10-02 01:49:38.000000</td>\n",
       "    </tr>\n",
       "    <tr>\n",
       "      <th>186</th>\n",
       "      <td>1727832173</td>\n",
       "      <td>Avião de Lula pousa no México após problema té...</td>\n",
       "      <td>2024-10-02 01:22:53.000000</td>\n",
       "    </tr>\n",
       "    <tr>\n",
       "      <th>187</th>\n",
       "      <td>1727831919</td>\n",
       "      <td>Mensalão: a cartada final dos condenados para ...</td>\n",
       "      <td>2024-10-02 01:18:39.000000</td>\n",
       "    </tr>\n",
       "    <tr>\n",
       "      <th>188</th>\n",
       "      <td>1727831012</td>\n",
       "      <td>Estatismo indiano versus estatismo brasileiro</td>\n",
       "      <td>2024-10-02 01:03:32.000000</td>\n",
       "    </tr>\n",
       "    <tr>\n",
       "      <th>189</th>\n",
       "      <td>1727830199</td>\n",
       "      <td>O Meme perfeito do Militante Esquerdista</td>\n",
       "      <td>2024-10-02 00:49:59.000000</td>\n",
       "    </tr>\n",
       "  </tbody>\n",
       "</table>\n",
       "<p>190 rows × 3 columns</p>\n",
       "</div>"
      ],
      "text/plain": [
       "             ts                                              title  \\\n",
       "0    1728097039  Sacar todo o dinheiro e esconder em casa é uma...   \n",
       "1    1728095744       Boulos falando sobre o receituário inventado   \n",
       "2    1728094156  Tudo bem ter pé atrás com Marçal, mas por caus...   \n",
       "3    1728092437  Já pensou pq não fazem luvas de goleiro ridicu...   \n",
       "4    1728090977  Marçal acaba de postar esse receituário sobre ...   \n",
       "..          ...                                                ...   \n",
       "185  1727833778  Fui diagnosticado com autismo leve, em que ess...   \n",
       "186  1727832173  Avião de Lula pousa no México após problema té...   \n",
       "187  1727831919  Mensalão: a cartada final dos condenados para ...   \n",
       "188  1727831012      Estatismo indiano versus estatismo brasileiro   \n",
       "189  1727830199           O Meme perfeito do Militante Esquerdista   \n",
       "\n",
       "                     created_at  \n",
       "0    2024-10-05 02:57:19.000000  \n",
       "1    2024-10-05 02:35:44.000000  \n",
       "2    2024-10-05 02:09:16.000000  \n",
       "3    2024-10-05 01:40:37.000000  \n",
       "4    2024-10-05 01:16:17.000000  \n",
       "..                          ...  \n",
       "185  2024-10-02 01:49:38.000000  \n",
       "186  2024-10-02 01:22:53.000000  \n",
       "187  2024-10-02 01:18:39.000000  \n",
       "188  2024-10-02 01:03:32.000000  \n",
       "189  2024-10-02 00:49:59.000000  \n",
       "\n",
       "[190 rows x 3 columns]"
      ]
     },
     "metadata": {},
     "output_type": "display_data"
    }
   ],
   "source": [
    "conn = sqlite3.connect(posts_filepath)\n",
    "df = pd.read_sql_query('SELECT ts, title, created_at FROM posts ORDER BY created_at DESC', conn)\n",
    "conn.close()\n",
    "display(df)"
   ]
  }
 ],
 "metadata": {
  "kernelspec": {
   "display_name": "Python 3",
   "language": "python",
   "name": "python3"
  },
  "language_info": {
   "codemirror_mode": {
    "name": "ipython",
    "version": 3
   },
   "file_extension": ".py",
   "mimetype": "text/x-python",
   "name": "python",
   "nbconvert_exporter": "python",
   "pygments_lexer": "ipython3",
   "version": "3.10.12"
  }
 },
 "nbformat": 4,
 "nbformat_minor": 2
}
